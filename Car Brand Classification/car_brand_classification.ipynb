{
  "nbformat": 4,
  "nbformat_minor": 0,
  "metadata": {
    "colab": {
      "name": "car brand classification",
      "provenance": []
    },
    "kernelspec": {
      "name": "python3",
      "display_name": "Python 3"
    },
    "accelerator": "GPU"
  },
  "cells": [
    {
      "cell_type": "markdown",
      "metadata": {
        "id": "c8Lk4tXBNhBi"
      },
      "source": [
        "#  CAR BRAND CLASSIFICATION - TRANSFER LEARNING USING VGG16"
      ]
    },
    {
      "cell_type": "code",
      "metadata": {
        "colab": {
          "base_uri": "https://localhost:8080/"
        },
        "id": "hR7-yUBUcfUH",
        "outputId": "31c4ff73-ea18-44b7-c4f3-2a197299aa23"
      },
      "source": [
        "from google.colab import drive\r\n",
        "drive.mount('/content/drive/')"
      ],
      "execution_count": 33,
      "outputs": [
        {
          "output_type": "stream",
          "text": [
            "Drive already mounted at /content/drive/; to attempt to forcibly remount, call drive.mount(\"/content/drive/\", force_remount=True).\n"
          ],
          "name": "stdout"
        }
      ]
    },
    {
      "cell_type": "code",
      "metadata": {
        "id": "kf_xzWK6dZrA"
      },
      "source": [
        "# import the libraries as shown below\r\n",
        "from tensorflow.keras.models import Sequential\r\n",
        "from tensorflow.keras.layers import Input, Lambda, Dense, Flatten\r\n",
        "from tensorflow.keras.models import Model\r\n",
        "from tensorflow.keras.applications.vgg16 import VGG16\r\n",
        "from tensorflow.keras.applications.vgg16 import preprocess_input\r\n",
        "from tensorflow.keras.preprocessing import image\r\n",
        "from tensorflow.keras.preprocessing.image import ImageDataGenerator,load_img\r\n",
        "import numpy as np\r\n",
        "from glob import glob\r\n",
        "import matplotlib.pyplot as plt"
      ],
      "execution_count": 34,
      "outputs": []
    },
    {
      "cell_type": "code",
      "metadata": {
        "id": "Z7CHQRx9dZul"
      },
      "source": [
        "# re-size all the images to this\r\n",
        "IMAGE_SIZE = [224, 224]\r\n",
        "\r\n",
        "train_path = '/content/drive/My Drive/IMAGES/Train'\r\n",
        "valid_path = '/content/drive/My Drive/IMAGES/Test'"
      ],
      "execution_count": 35,
      "outputs": []
    },
    {
      "cell_type": "code",
      "metadata": {
        "id": "HkRw0eibdZxy"
      },
      "source": [
        "# Import the vgg16 library as shown below and add preprocessing layer to the front of vgg16\r\n",
        "# Here we will be using imagenet weights\r\n",
        "\r\n",
        "vgg16 = VGG16(input_shape=IMAGE_SIZE + [3], weights='imagenet', include_top=False)"
      ],
      "execution_count": 36,
      "outputs": []
    },
    {
      "cell_type": "code",
      "metadata": {
        "id": "BuMInvEGdZ0u"
      },
      "source": [
        "# don't train existing weights\r\n",
        "for layer in vgg16.layers:\r\n",
        "    layer.trainable = False"
      ],
      "execution_count": 37,
      "outputs": []
    },
    {
      "cell_type": "code",
      "metadata": {
        "id": "bNWkFxeUdZ4f"
      },
      "source": [
        "# useful for getting number of output classes\r\n",
        "folders = glob('/content/drive/My Drive/IMAGES/Train/*')"
      ],
      "execution_count": 38,
      "outputs": []
    },
    {
      "cell_type": "code",
      "metadata": {
        "id": "d_ZVSTiOdZ7P"
      },
      "source": [
        "# output layers\r\n",
        "x = Flatten()(vgg16.output)"
      ],
      "execution_count": 39,
      "outputs": []
    },
    {
      "cell_type": "code",
      "metadata": {
        "id": "VnGhEDUDdZ-p"
      },
      "source": [
        "prediction = Dense(len(folders), activation='softmax')(x)\r\n",
        "# create a model object\r\n",
        "model = Model(inputs=vgg16.input, outputs=prediction)"
      ],
      "execution_count": 40,
      "outputs": []
    },
    {
      "cell_type": "code",
      "metadata": {
        "colab": {
          "base_uri": "https://localhost:8080/"
        },
        "id": "ncqNh4g1daBD",
        "outputId": "77472743-54ba-4f2e-e71f-c537a25aafd3"
      },
      "source": [
        "# view the structure of the model\r\n",
        "model.summary()"
      ],
      "execution_count": 41,
      "outputs": [
        {
          "output_type": "stream",
          "text": [
            "Model: \"model_2\"\n",
            "_________________________________________________________________\n",
            "Layer (type)                 Output Shape              Param #   \n",
            "=================================================================\n",
            "input_3 (InputLayer)         [(None, 224, 224, 3)]     0         \n",
            "_________________________________________________________________\n",
            "block1_conv1 (Conv2D)        (None, 224, 224, 64)      1792      \n",
            "_________________________________________________________________\n",
            "block1_conv2 (Conv2D)        (None, 224, 224, 64)      36928     \n",
            "_________________________________________________________________\n",
            "block1_pool (MaxPooling2D)   (None, 112, 112, 64)      0         \n",
            "_________________________________________________________________\n",
            "block2_conv1 (Conv2D)        (None, 112, 112, 128)     73856     \n",
            "_________________________________________________________________\n",
            "block2_conv2 (Conv2D)        (None, 112, 112, 128)     147584    \n",
            "_________________________________________________________________\n",
            "block2_pool (MaxPooling2D)   (None, 56, 56, 128)       0         \n",
            "_________________________________________________________________\n",
            "block3_conv1 (Conv2D)        (None, 56, 56, 256)       295168    \n",
            "_________________________________________________________________\n",
            "block3_conv2 (Conv2D)        (None, 56, 56, 256)       590080    \n",
            "_________________________________________________________________\n",
            "block3_conv3 (Conv2D)        (None, 56, 56, 256)       590080    \n",
            "_________________________________________________________________\n",
            "block3_pool (MaxPooling2D)   (None, 28, 28, 256)       0         \n",
            "_________________________________________________________________\n",
            "block4_conv1 (Conv2D)        (None, 28, 28, 512)       1180160   \n",
            "_________________________________________________________________\n",
            "block4_conv2 (Conv2D)        (None, 28, 28, 512)       2359808   \n",
            "_________________________________________________________________\n",
            "block4_conv3 (Conv2D)        (None, 28, 28, 512)       2359808   \n",
            "_________________________________________________________________\n",
            "block4_pool (MaxPooling2D)   (None, 14, 14, 512)       0         \n",
            "_________________________________________________________________\n",
            "block5_conv1 (Conv2D)        (None, 14, 14, 512)       2359808   \n",
            "_________________________________________________________________\n",
            "block5_conv2 (Conv2D)        (None, 14, 14, 512)       2359808   \n",
            "_________________________________________________________________\n",
            "block5_conv3 (Conv2D)        (None, 14, 14, 512)       2359808   \n",
            "_________________________________________________________________\n",
            "block5_pool (MaxPooling2D)   (None, 7, 7, 512)         0         \n",
            "_________________________________________________________________\n",
            "flatten_2 (Flatten)          (None, 25088)             0         \n",
            "_________________________________________________________________\n",
            "dense_2 (Dense)              (None, 3)                 75267     \n",
            "=================================================================\n",
            "Total params: 14,789,955\n",
            "Trainable params: 75,267\n",
            "Non-trainable params: 14,714,688\n",
            "_________________________________________________________________\n"
          ],
          "name": "stdout"
        }
      ]
    },
    {
      "cell_type": "code",
      "metadata": {
        "id": "qiMO4OTlhLss"
      },
      "source": [
        "model.compile(\r\n",
        "  loss='categorical_crossentropy',\r\n",
        "  optimizer='adam',\r\n",
        "  metrics=['accuracy']\r\n",
        ")"
      ],
      "execution_count": 42,
      "outputs": []
    },
    {
      "cell_type": "code",
      "metadata": {
        "id": "j9B-c1uZhLw_"
      },
      "source": [
        "# Use the Image Data Generator to import the images from the dataset\r\n",
        "\r\n",
        "train_data = ImageDataGenerator(rescale = 1./255,\r\n",
        "                                   shear_range = 0.2,\r\n",
        "                                   zoom_range = 0.2,\r\n",
        "                                   horizontal_flip = True)\r\n",
        "\r\n",
        "test_data = ImageDataGenerator(rescale = 1./255)"
      ],
      "execution_count": 43,
      "outputs": []
    },
    {
      "cell_type": "code",
      "metadata": {
        "colab": {
          "base_uri": "https://localhost:8080/"
        },
        "id": "M1C-hLjJhLzi",
        "outputId": "8e818821-6868-4c03-f390-bc550042e4e9"
      },
      "source": [
        "# Make sure to provide the same target size as initialied for the image size\r\n",
        "training_set = train_data.flow_from_directory('/content/drive/My Drive/IMAGES/Train',\r\n",
        "                                                 target_size = (224, 224),\r\n",
        "                                                 batch_size = 32,\r\n",
        "                                                 class_mode = 'categorical')"
      ],
      "execution_count": 44,
      "outputs": [
        {
          "output_type": "stream",
          "text": [
            "Found 55 images belonging to 3 classes.\n"
          ],
          "name": "stdout"
        }
      ]
    },
    {
      "cell_type": "code",
      "metadata": {
        "colab": {
          "base_uri": "https://localhost:8080/"
        },
        "id": "xB609Ml4hL3D",
        "outputId": "39d2417e-cb33-4396-c9ab-f50e4ccb138a"
      },
      "source": [
        "test_set = test_data.flow_from_directory('/content/drive/My Drive/IMAGES/Test',\r\n",
        "                                            target_size = (224, 224),\r\n",
        "                                            batch_size = 32,\r\n",
        "                                            class_mode = 'categorical')"
      ],
      "execution_count": 45,
      "outputs": [
        {
          "output_type": "stream",
          "text": [
            "Found 58 images belonging to 3 classes.\n"
          ],
          "name": "stdout"
        }
      ]
    },
    {
      "cell_type": "code",
      "metadata": {
        "colab": {
          "base_uri": "https://localhost:8080/"
        },
        "id": "qEVkXiLXhL6f",
        "outputId": "4d3bee55-6411-460d-d976-ca8d961edab1"
      },
      "source": [
        "# fit the model\r\n",
        "# Run the cell. It will take some time to execute\r\n",
        "r = model.fit_generator(\r\n",
        "  training_set,\r\n",
        "  validation_data=test_set,\r\n",
        "  epochs=50,\r\n",
        "  steps_per_epoch=len(training_set),\r\n",
        "  validation_steps=len(test_set)\r\n",
        ")"
      ],
      "execution_count": 46,
      "outputs": [
        {
          "output_type": "stream",
          "text": [
            "/usr/local/lib/python3.6/dist-packages/tensorflow/python/keras/engine/training.py:1844: UserWarning: `Model.fit_generator` is deprecated and will be removed in a future version. Please use `Model.fit`, which supports generators.\n",
            "  warnings.warn('`Model.fit_generator` is deprecated and '\n"
          ],
          "name": "stderr"
        },
        {
          "output_type": "stream",
          "text": [
            "Epoch 1/50\n",
            "2/2 [==============================] - 26s 24s/step - loss: 1.6415 - accuracy: 0.2930 - val_loss: 1.6456 - val_accuracy: 0.3793\n",
            "Epoch 2/50\n",
            "2/2 [==============================] - 1s 590ms/step - loss: 1.0890 - accuracy: 0.5424 - val_loss: 1.8226 - val_accuracy: 0.5690\n",
            "Epoch 3/50\n",
            "2/2 [==============================] - 1s 585ms/step - loss: 1.2857 - accuracy: 0.5008 - val_loss: 1.0886 - val_accuracy: 0.6379\n",
            "Epoch 4/50\n",
            "2/2 [==============================] - 1s 600ms/step - loss: 0.6064 - accuracy: 0.7383 - val_loss: 0.8005 - val_accuracy: 0.6034\n",
            "Epoch 5/50\n",
            "2/2 [==============================] - 1s 587ms/step - loss: 0.6190 - accuracy: 0.7123 - val_loss: 0.5487 - val_accuracy: 0.7759\n",
            "Epoch 6/50\n",
            "2/2 [==============================] - 1s 592ms/step - loss: 0.2165 - accuracy: 0.9549 - val_loss: 0.7454 - val_accuracy: 0.6897\n",
            "Epoch 7/50\n",
            "2/2 [==============================] - 1s 694ms/step - loss: 0.2132 - accuracy: 0.8983 - val_loss: 1.0055 - val_accuracy: 0.6552\n",
            "Epoch 8/50\n",
            "2/2 [==============================] - 1s 813ms/step - loss: 0.1762 - accuracy: 0.9491 - val_loss: 0.9344 - val_accuracy: 0.6724\n",
            "Epoch 9/50\n",
            "2/2 [==============================] - 1s 722ms/step - loss: 0.1969 - accuracy: 0.9347 - val_loss: 0.6253 - val_accuracy: 0.7069\n",
            "Epoch 10/50\n",
            "2/2 [==============================] - 1s 582ms/step - loss: 0.0672 - accuracy: 0.9879 - val_loss: 0.4547 - val_accuracy: 0.8103\n",
            "Epoch 11/50\n",
            "2/2 [==============================] - 1s 709ms/step - loss: 0.0662 - accuracy: 1.0000 - val_loss: 0.3994 - val_accuracy: 0.8276\n",
            "Epoch 12/50\n",
            "2/2 [==============================] - 1s 733ms/step - loss: 0.0745 - accuracy: 0.9734 - val_loss: 0.3764 - val_accuracy: 0.8276\n",
            "Epoch 13/50\n",
            "2/2 [==============================] - 1s 712ms/step - loss: 0.0419 - accuracy: 1.0000 - val_loss: 0.3903 - val_accuracy: 0.8103\n",
            "Epoch 14/50\n",
            "2/2 [==============================] - 1s 596ms/step - loss: 0.0347 - accuracy: 1.0000 - val_loss: 0.4277 - val_accuracy: 0.8448\n",
            "Epoch 15/50\n",
            "2/2 [==============================] - 1s 704ms/step - loss: 0.0713 - accuracy: 1.0000 - val_loss: 0.4460 - val_accuracy: 0.7931\n",
            "Epoch 16/50\n",
            "2/2 [==============================] - 1s 701ms/step - loss: 0.0451 - accuracy: 0.9879 - val_loss: 0.4650 - val_accuracy: 0.8276\n",
            "Epoch 17/50\n",
            "2/2 [==============================] - 1s 702ms/step - loss: 0.0205 - accuracy: 1.0000 - val_loss: 0.4829 - val_accuracy: 0.8103\n",
            "Epoch 18/50\n",
            "2/2 [==============================] - 1s 601ms/step - loss: 0.0268 - accuracy: 1.0000 - val_loss: 0.5026 - val_accuracy: 0.7759\n",
            "Epoch 19/50\n",
            "2/2 [==============================] - 1s 600ms/step - loss: 0.0205 - accuracy: 1.0000 - val_loss: 0.5207 - val_accuracy: 0.7931\n",
            "Epoch 20/50\n",
            "2/2 [==============================] - 1s 718ms/step - loss: 0.0211 - accuracy: 1.0000 - val_loss: 0.5314 - val_accuracy: 0.7931\n",
            "Epoch 21/50\n",
            "2/2 [==============================] - 1s 596ms/step - loss: 0.0235 - accuracy: 1.0000 - val_loss: 0.5215 - val_accuracy: 0.7931\n",
            "Epoch 22/50\n",
            "2/2 [==============================] - 1s 597ms/step - loss: 0.0191 - accuracy: 1.0000 - val_loss: 0.4927 - val_accuracy: 0.7931\n",
            "Epoch 23/50\n",
            "2/2 [==============================] - 1s 696ms/step - loss: 0.0161 - accuracy: 1.0000 - val_loss: 0.4622 - val_accuracy: 0.7931\n",
            "Epoch 24/50\n",
            "2/2 [==============================] - 1s 704ms/step - loss: 0.0107 - accuracy: 1.0000 - val_loss: 0.4422 - val_accuracy: 0.8276\n",
            "Epoch 25/50\n",
            "2/2 [==============================] - 1s 602ms/step - loss: 0.0078 - accuracy: 1.0000 - val_loss: 0.4342 - val_accuracy: 0.8103\n",
            "Epoch 26/50\n",
            "2/2 [==============================] - 1s 702ms/step - loss: 0.0113 - accuracy: 1.0000 - val_loss: 0.4193 - val_accuracy: 0.8103\n",
            "Epoch 27/50\n",
            "2/2 [==============================] - 1s 606ms/step - loss: 0.0085 - accuracy: 1.0000 - val_loss: 0.4050 - val_accuracy: 0.8276\n",
            "Epoch 28/50\n",
            "2/2 [==============================] - 1s 600ms/step - loss: 0.0100 - accuracy: 1.0000 - val_loss: 0.3874 - val_accuracy: 0.8276\n",
            "Epoch 29/50\n",
            "2/2 [==============================] - 1s 590ms/step - loss: 0.0116 - accuracy: 1.0000 - val_loss: 0.3680 - val_accuracy: 0.8448\n",
            "Epoch 30/50\n",
            "2/2 [==============================] - 1s 584ms/step - loss: 0.0086 - accuracy: 1.0000 - val_loss: 0.3499 - val_accuracy: 0.8793\n",
            "Epoch 31/50\n",
            "2/2 [==============================] - 1s 737ms/step - loss: 0.0072 - accuracy: 1.0000 - val_loss: 0.3365 - val_accuracy: 0.8448\n",
            "Epoch 32/50\n",
            "2/2 [==============================] - 1s 601ms/step - loss: 0.0109 - accuracy: 1.0000 - val_loss: 0.3275 - val_accuracy: 0.8448\n",
            "Epoch 33/50\n",
            "2/2 [==============================] - 1s 616ms/step - loss: 0.0080 - accuracy: 1.0000 - val_loss: 0.3258 - val_accuracy: 0.8448\n",
            "Epoch 34/50\n",
            "2/2 [==============================] - 1s 614ms/step - loss: 0.0089 - accuracy: 1.0000 - val_loss: 0.3274 - val_accuracy: 0.8621\n",
            "Epoch 35/50\n",
            "2/2 [==============================] - 1s 599ms/step - loss: 0.0074 - accuracy: 1.0000 - val_loss: 0.3343 - val_accuracy: 0.8621\n",
            "Epoch 36/50\n",
            "2/2 [==============================] - 1s 715ms/step - loss: 0.0068 - accuracy: 1.0000 - val_loss: 0.3436 - val_accuracy: 0.8448\n",
            "Epoch 37/50\n",
            "2/2 [==============================] - 1s 601ms/step - loss: 0.0070 - accuracy: 1.0000 - val_loss: 0.3570 - val_accuracy: 0.8448\n",
            "Epoch 38/50\n",
            "2/2 [==============================] - 1s 588ms/step - loss: 0.0056 - accuracy: 1.0000 - val_loss: 0.3728 - val_accuracy: 0.8276\n",
            "Epoch 39/50\n",
            "2/2 [==============================] - 1s 710ms/step - loss: 0.0065 - accuracy: 1.0000 - val_loss: 0.3885 - val_accuracy: 0.8276\n",
            "Epoch 40/50\n",
            "2/2 [==============================] - 1s 715ms/step - loss: 0.0048 - accuracy: 1.0000 - val_loss: 0.3998 - val_accuracy: 0.8448\n",
            "Epoch 41/50\n",
            "2/2 [==============================] - 1s 586ms/step - loss: 0.0048 - accuracy: 1.0000 - val_loss: 0.4083 - val_accuracy: 0.8448\n",
            "Epoch 42/50\n",
            "2/2 [==============================] - 1s 596ms/step - loss: 0.0043 - accuracy: 1.0000 - val_loss: 0.4144 - val_accuracy: 0.8448\n",
            "Epoch 43/50\n",
            "2/2 [==============================] - 1s 599ms/step - loss: 0.0051 - accuracy: 1.0000 - val_loss: 0.4169 - val_accuracy: 0.8448\n",
            "Epoch 44/50\n",
            "2/2 [==============================] - 1s 589ms/step - loss: 0.0050 - accuracy: 1.0000 - val_loss: 0.4151 - val_accuracy: 0.8448\n",
            "Epoch 45/50\n",
            "2/2 [==============================] - 1s 706ms/step - loss: 0.0041 - accuracy: 1.0000 - val_loss: 0.4105 - val_accuracy: 0.8448\n",
            "Epoch 46/50\n",
            "2/2 [==============================] - 1s 585ms/step - loss: 0.0054 - accuracy: 1.0000 - val_loss: 0.4044 - val_accuracy: 0.8448\n",
            "Epoch 47/50\n",
            "2/2 [==============================] - 1s 602ms/step - loss: 0.0047 - accuracy: 1.0000 - val_loss: 0.3998 - val_accuracy: 0.8448\n",
            "Epoch 48/50\n",
            "2/2 [==============================] - 1s 716ms/step - loss: 0.0051 - accuracy: 1.0000 - val_loss: 0.3922 - val_accuracy: 0.8448\n",
            "Epoch 49/50\n",
            "2/2 [==============================] - 1s 597ms/step - loss: 0.0048 - accuracy: 1.0000 - val_loss: 0.3870 - val_accuracy: 0.8448\n",
            "Epoch 50/50\n",
            "2/2 [==============================] - 1s 589ms/step - loss: 0.0082 - accuracy: 1.0000 - val_loss: 0.3823 - val_accuracy: 0.8448\n"
          ],
          "name": "stdout"
        }
      ]
    },
    {
      "cell_type": "code",
      "metadata": {
        "id": "v_RCW4-thL9x"
      },
      "source": [
        "from tensorflow.keras.models import load_model\r\n",
        "model.save('model.h5')"
      ],
      "execution_count": 47,
      "outputs": []
    },
    {
      "cell_type": "code",
      "metadata": {
        "colab": {
          "base_uri": "https://localhost:8080/"
        },
        "id": "eRewUhuchMAa",
        "outputId": "9e7903b8-b1c0-4e1e-88f9-6b18358c7a13"
      },
      "source": [
        "y_pred = model.predict(test_set)\r\n",
        "y_pred"
      ],
      "execution_count": 48,
      "outputs": [
        {
          "output_type": "execute_result",
          "data": {
            "text/plain": [
              "array([[1.37769321e-05, 9.99637127e-01, 3.49034730e-04],\n",
              "       [6.52512885e-04, 9.99080062e-01, 2.67350086e-04],\n",
              "       [1.65053178e-02, 1.18306652e-02, 9.71664071e-01],\n",
              "       [9.22915861e-02, 4.68349725e-01, 4.39358741e-01],\n",
              "       [1.69892386e-02, 7.69144058e-01, 2.13866696e-01],\n",
              "       [1.20231335e-03, 9.89297509e-01, 9.50009469e-03],\n",
              "       [4.22380865e-04, 9.39818680e-01, 5.97589612e-02],\n",
              "       [3.27131338e-02, 5.54243207e-01, 4.13043737e-01],\n",
              "       [4.39757807e-03, 9.82141018e-01, 1.34613970e-02],\n",
              "       [5.42382069e-04, 9.99384046e-01, 7.35101203e-05],\n",
              "       [3.89003806e-04, 9.97124732e-01, 2.48618168e-03],\n",
              "       [8.43151271e-01, 1.21006526e-01, 3.58421504e-02],\n",
              "       [1.58621818e-02, 7.26058543e-01, 2.58079290e-01],\n",
              "       [1.45185255e-02, 9.82809365e-01, 2.67216517e-03],\n",
              "       [3.54258297e-03, 8.22292328e-01, 1.74165055e-01],\n",
              "       [1.20112172e-03, 9.97500122e-01, 1.29880838e-03],\n",
              "       [9.72549460e-05, 9.99254167e-01, 6.48582412e-04],\n",
              "       [6.88594058e-02, 2.22881064e-01, 7.08259523e-01],\n",
              "       [9.99962091e-01, 7.40442374e-07, 3.72314280e-05],\n",
              "       [4.02826607e-01, 2.40989821e-03, 5.94763458e-01],\n",
              "       [4.06984938e-04, 9.94239092e-01, 5.35395276e-03],\n",
              "       [2.53774400e-04, 9.99503374e-01, 2.42841648e-04],\n",
              "       [5.41039603e-03, 9.31979656e-01, 6.26100078e-02],\n",
              "       [5.30776381e-02, 9.46353197e-01, 5.69147116e-04],\n",
              "       [2.11002436e-04, 9.99595106e-01, 1.93917222e-04],\n",
              "       [7.75311351e-01, 1.37340441e-01, 8.73483196e-02],\n",
              "       [1.87963742e-04, 9.99373019e-01, 4.38971532e-04],\n",
              "       [7.73834705e-04, 9.96281803e-01, 2.94433604e-03],\n",
              "       [3.62420408e-03, 9.96110380e-01, 2.65440467e-04],\n",
              "       [2.86829425e-04, 9.99640584e-01, 7.25383070e-05],\n",
              "       [5.52672267e-01, 6.74458519e-02, 3.79881918e-01],\n",
              "       [1.90557484e-02, 4.81297541e-03, 9.76131320e-01],\n",
              "       [9.24615364e-04, 9.27070856e-01, 7.20045418e-02],\n",
              "       [9.98128831e-01, 2.81840737e-04, 1.58935285e-03],\n",
              "       [8.13969004e-04, 9.99091744e-01, 9.43767300e-05],\n",
              "       [9.90559340e-01, 1.18076889e-04, 9.32263490e-03],\n",
              "       [1.82328112e-02, 6.91459477e-01, 2.90307701e-01],\n",
              "       [1.45842889e-04, 9.99172986e-01, 6.81214617e-04],\n",
              "       [1.68316171e-01, 2.85243010e-03, 8.28831375e-01],\n",
              "       [2.44101331e-01, 6.71966791e-01, 8.39318112e-02],\n",
              "       [4.08222787e-02, 9.59082134e-03, 9.49586928e-01],\n",
              "       [1.32801812e-02, 7.41805077e-01, 2.44914725e-01],\n",
              "       [3.29403542e-02, 9.37068164e-02, 8.73352826e-01],\n",
              "       [6.32540602e-03, 7.84043223e-03, 9.85834181e-01],\n",
              "       [1.42210760e-04, 9.99388576e-01, 4.69192601e-04],\n",
              "       [4.03910369e-01, 7.68454885e-03, 5.88405073e-01],\n",
              "       [3.48309550e-04, 9.99481022e-01, 1.70681858e-04],\n",
              "       [1.71559641e-05, 9.99374449e-01, 6.08455099e-04],\n",
              "       [1.13112152e-01, 2.28615865e-01, 6.58271968e-01],\n",
              "       [9.85598922e-01, 2.23366800e-03, 1.21674407e-02],\n",
              "       [1.28374260e-03, 9.98131692e-01, 5.84594905e-04],\n",
              "       [1.35479972e-01, 8.05548906e-01, 5.89710996e-02],\n",
              "       [3.12241958e-04, 9.99218702e-01, 4.69087594e-04],\n",
              "       [1.09134533e-03, 9.19356108e-01, 7.95525238e-02],\n",
              "       [5.58042467e-01, 2.10278784e-03, 4.39854681e-01],\n",
              "       [3.11753869e-01, 9.29997396e-03, 6.78946137e-01],\n",
              "       [1.41856158e-02, 9.33432221e-01, 5.23821749e-02],\n",
              "       [4.93317574e-01, 2.12861113e-02, 4.85396326e-01]], dtype=float32)"
            ]
          },
          "metadata": {
            "tags": []
          },
          "execution_count": 48
        }
      ]
    },
    {
      "cell_type": "code",
      "metadata": {
        "colab": {
          "base_uri": "https://localhost:8080/"
        },
        "id": "Hk1NxlCthMD_",
        "outputId": "e95781b2-ffe8-4498-c413-955a5b567ceb"
      },
      "source": [
        "y_pred = np.argmax(y_pred, axis=1)\r\n",
        "y_pred"
      ],
      "execution_count": 49,
      "outputs": [
        {
          "output_type": "execute_result",
          "data": {
            "text/plain": [
              "array([1, 1, 2, 1, 1, 1, 1, 1, 1, 1, 1, 0, 1, 1, 1, 1, 1, 2, 0, 2, 1, 1,\n",
              "       1, 1, 1, 0, 1, 1, 1, 1, 0, 2, 1, 0, 1, 0, 1, 1, 2, 1, 2, 1, 2, 2,\n",
              "       1, 2, 1, 1, 2, 0, 1, 1, 1, 1, 0, 2, 1, 0])"
            ]
          },
          "metadata": {
            "tags": []
          },
          "execution_count": 49
        }
      ]
    },
    {
      "cell_type": "code",
      "metadata": {
        "id": "KkdeXyyddaEd"
      },
      "source": [
        "model=load_model('model.h5')"
      ],
      "execution_count": 50,
      "outputs": []
    },
    {
      "cell_type": "markdown",
      "metadata": {
        "id": "DHXFsDwnNZ1Q"
      },
      "source": [
        "## MODEL PREDICTION"
      ]
    },
    {
      "cell_type": "code",
      "metadata": {
        "colab": {
          "base_uri": "https://localhost:8080/"
        },
        "id": "Mo3aB0D6MMbo",
        "outputId": "502b07f8-42d8-40bb-d154-e052236f587c"
      },
      "source": [
        "imag = image.load_img('/content/drive/My Drive/IMAGES/Test/audi/26.jpg', target_size = (224, 224))\r\n",
        "x = image.img_to_array(imag)\r\n",
        "x=x/255\r\n",
        "test_image = np.expand_dims(x, axis = 0)\r\n",
        "result = model.predict(test_image)\r\n",
        "result=np.argmax(result, axis=1)\r\n",
        "if result==0:\r\n",
        " print(\"The Car is Audi\")\r\n",
        "elif result==1:\r\n",
        "  print(\"The Car is Lamborghini\")\r\n",
        "else:\r\n",
        "  print(\"The Car Is Mercedes\")"
      ],
      "execution_count": 75,
      "outputs": [
        {
          "output_type": "stream",
          "text": [
            "The Car is Audi\n"
          ],
          "name": "stdout"
        }
      ]
    }
  ]
}