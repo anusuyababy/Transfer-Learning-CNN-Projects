{
  "nbformat": 4,
  "nbformat_minor": 0,
  "metadata": {
    "colab": {
      "name": "Malaria Disease Prediction ",
      "provenance": []
    },
    "kernelspec": {
      "name": "python3",
      "display_name": "Python 3"
    },
    "accelerator": "GPU"
  },
  "cells": [
    {
      "cell_type": "code",
      "metadata": {
        "colab": {
          "base_uri": "https://localhost:8080/"
        },
        "id": "WOVJyeAhE0vh",
        "outputId": "b87c4142-3d75-45ae-9707-9e737f9d90fe"
      },
      "source": [
        "from google.colab import drive\r\n",
        "drive.mount('/content/drive/')"
      ],
      "execution_count": 38,
      "outputs": [
        {
          "output_type": "stream",
          "text": [
            "Drive already mounted at /content/drive/; to attempt to forcibly remount, call drive.mount(\"/content/drive/\", force_remount=True).\n"
          ],
          "name": "stdout"
        }
      ]
    },
    {
      "cell_type": "code",
      "metadata": {
        "id": "XJxsE9ONGPAp"
      },
      "source": [
        "# import the libraries as shown below\r\n",
        "from tensorflow.keras.models import Sequential\r\n",
        "from tensorflow.keras.layers import Input, Lambda, Dense, Flatten\r\n",
        "from tensorflow.keras.models import Model\r\n",
        "from tensorflow.keras.applications.vgg16 import VGG16\r\n",
        "from tensorflow.keras.applications.vgg16 import preprocess_input\r\n",
        "from tensorflow.keras.preprocessing import image\r\n",
        "from tensorflow.keras.preprocessing.image import ImageDataGenerator,load_img\r\n",
        "import numpy as np\r\n",
        "from glob import glob\r\n",
        "import matplotlib.pyplot as plt"
      ],
      "execution_count": 39,
      "outputs": []
    },
    {
      "cell_type": "code",
      "metadata": {
        "id": "tgHb-XXJGPEr"
      },
      "source": [
        "# re-size all the images to this\r\n",
        "IMAGE_SIZE = [224, 224]\r\n",
        "\r\n",
        "train_path = '/content/drive/My Drive/IMAGES/Train'\r\n",
        "valid_path = '/content/drive/My Drive/IMAGES/Test'"
      ],
      "execution_count": 40,
      "outputs": []
    },
    {
      "cell_type": "code",
      "metadata": {
        "colab": {
          "base_uri": "https://localhost:8080/"
        },
        "id": "n0GrSuKAGPKV",
        "outputId": "39489870-3ccc-4722-cb3e-da3b591c10bf"
      },
      "source": [
        "vgg16 = VGG16(input_shape=IMAGE_SIZE + [3], weights='imagenet', include_top=False)"
      ],
      "execution_count": 41,
      "outputs": [
        {
          "output_type": "stream",
          "text": [
            "Downloading data from https://storage.googleapis.com/tensorflow/keras-applications/vgg16/vgg16_weights_tf_dim_ordering_tf_kernels_notop.h5\n",
            "58892288/58889256 [==============================] - 1s 0us/step\n"
          ],
          "name": "stdout"
        }
      ]
    },
    {
      "cell_type": "code",
      "metadata": {
        "id": "qQ9uJRLuGPNe"
      },
      "source": [
        "for layer in vgg16.layers:\r\n",
        "    layer.trainable = False"
      ],
      "execution_count": 42,
      "outputs": []
    },
    {
      "cell_type": "code",
      "metadata": {
        "id": "gxMU-TzZGPQa"
      },
      "source": [
        "folders = glob('/content/drive/My Drive/IMAGES/Train/*')"
      ],
      "execution_count": 43,
      "outputs": []
    },
    {
      "cell_type": "code",
      "metadata": {
        "id": "M6gQoVufGPS2"
      },
      "source": [
        "x = Flatten()(vgg16.output)"
      ],
      "execution_count": 44,
      "outputs": []
    },
    {
      "cell_type": "code",
      "metadata": {
        "id": "C1qnEJXSGPVY"
      },
      "source": [
        "prediction = Dense(len(folders), activation='softmax')(x)\r\n",
        "model = Model(inputs=vgg16.input, outputs=prediction)"
      ],
      "execution_count": 45,
      "outputs": []
    },
    {
      "cell_type": "code",
      "metadata": {
        "colab": {
          "base_uri": "https://localhost:8080/"
        },
        "id": "hpBDumMPGPo_",
        "outputId": "024af1bc-580d-4574-e989-0b2a52fe1cf1"
      },
      "source": [
        "model.summary()"
      ],
      "execution_count": 46,
      "outputs": [
        {
          "output_type": "stream",
          "text": [
            "Model: \"model_2\"\n",
            "_________________________________________________________________\n",
            "Layer (type)                 Output Shape              Param #   \n",
            "=================================================================\n",
            "input_3 (InputLayer)         [(None, 224, 224, 3)]     0         \n",
            "_________________________________________________________________\n",
            "block1_conv1 (Conv2D)        (None, 224, 224, 64)      1792      \n",
            "_________________________________________________________________\n",
            "block1_conv2 (Conv2D)        (None, 224, 224, 64)      36928     \n",
            "_________________________________________________________________\n",
            "block1_pool (MaxPooling2D)   (None, 112, 112, 64)      0         \n",
            "_________________________________________________________________\n",
            "block2_conv1 (Conv2D)        (None, 112, 112, 128)     73856     \n",
            "_________________________________________________________________\n",
            "block2_conv2 (Conv2D)        (None, 112, 112, 128)     147584    \n",
            "_________________________________________________________________\n",
            "block2_pool (MaxPooling2D)   (None, 56, 56, 128)       0         \n",
            "_________________________________________________________________\n",
            "block3_conv1 (Conv2D)        (None, 56, 56, 256)       295168    \n",
            "_________________________________________________________________\n",
            "block3_conv2 (Conv2D)        (None, 56, 56, 256)       590080    \n",
            "_________________________________________________________________\n",
            "block3_conv3 (Conv2D)        (None, 56, 56, 256)       590080    \n",
            "_________________________________________________________________\n",
            "block3_pool (MaxPooling2D)   (None, 28, 28, 256)       0         \n",
            "_________________________________________________________________\n",
            "block4_conv1 (Conv2D)        (None, 28, 28, 512)       1180160   \n",
            "_________________________________________________________________\n",
            "block4_conv2 (Conv2D)        (None, 28, 28, 512)       2359808   \n",
            "_________________________________________________________________\n",
            "block4_conv3 (Conv2D)        (None, 28, 28, 512)       2359808   \n",
            "_________________________________________________________________\n",
            "block4_pool (MaxPooling2D)   (None, 14, 14, 512)       0         \n",
            "_________________________________________________________________\n",
            "block5_conv1 (Conv2D)        (None, 14, 14, 512)       2359808   \n",
            "_________________________________________________________________\n",
            "block5_conv2 (Conv2D)        (None, 14, 14, 512)       2359808   \n",
            "_________________________________________________________________\n",
            "block5_conv3 (Conv2D)        (None, 14, 14, 512)       2359808   \n",
            "_________________________________________________________________\n",
            "block5_pool (MaxPooling2D)   (None, 7, 7, 512)         0         \n",
            "_________________________________________________________________\n",
            "flatten_3 (Flatten)          (None, 25088)             0         \n",
            "_________________________________________________________________\n",
            "dense_2 (Dense)              (None, 2)                 50178     \n",
            "=================================================================\n",
            "Total params: 14,764,866\n",
            "Trainable params: 50,178\n",
            "Non-trainable params: 14,714,688\n",
            "_________________________________________________________________\n"
          ],
          "name": "stdout"
        }
      ]
    },
    {
      "cell_type": "code",
      "metadata": {
        "id": "1GC6YAF5GPr3"
      },
      "source": [
        "model.compile(\r\n",
        "  loss='categorical_crossentropy',\r\n",
        "  optimizer='adam',\r\n",
        "  metrics=['accuracy']\r\n",
        ")"
      ],
      "execution_count": 47,
      "outputs": []
    },
    {
      "cell_type": "code",
      "metadata": {
        "id": "7sf_PrT_GPwK"
      },
      "source": [
        "train_data = ImageDataGenerator(rescale = 1./255,\r\n",
        "                                   shear_range = 0.2,\r\n",
        "                                   zoom_range = 0.2,\r\n",
        "                                   horizontal_flip = True)\r\n",
        "\r\n",
        "test_data = ImageDataGenerator(rescale = 1./255)"
      ],
      "execution_count": 48,
      "outputs": []
    },
    {
      "cell_type": "code",
      "metadata": {
        "colab": {
          "base_uri": "https://localhost:8080/"
        },
        "id": "Jtzn0cLOGP0U",
        "outputId": "2cdc7dcd-d4a0-4791-9251-8cf175e552b9"
      },
      "source": [
        "training_set = train_data.flow_from_directory('/content/drive/My Drive/IMAGES/Train',\r\n",
        "                                                 target_size = (224, 224),\r\n",
        "                                                 batch_size = 32,\r\n",
        "                                                 class_mode = 'categorical')"
      ],
      "execution_count": 49,
      "outputs": [
        {
          "output_type": "stream",
          "text": [
            "Found 416 images belonging to 2 classes.\n"
          ],
          "name": "stdout"
        }
      ]
    },
    {
      "cell_type": "code",
      "metadata": {
        "colab": {
          "base_uri": "https://localhost:8080/"
        },
        "id": "MYAPESjJKL1B",
        "outputId": "cf49058a-ec15-4f2d-bd5f-8cdb8038dce2"
      },
      "source": [
        "test_set = test_data.flow_from_directory('/content/drive/My Drive/IMAGES/Test',\r\n",
        "                                            target_size = (224, 224),\r\n",
        "                                            batch_size = 32,\r\n",
        "                                            class_mode = 'categorical')"
      ],
      "execution_count": 50,
      "outputs": [
        {
          "output_type": "stream",
          "text": [
            "Found 134 images belonging to 2 classes.\n"
          ],
          "name": "stdout"
        }
      ]
    },
    {
      "cell_type": "code",
      "metadata": {
        "colab": {
          "base_uri": "https://localhost:8080/"
        },
        "id": "HHg73sIZIs1P",
        "outputId": "c6a569bc-2441-43cf-abdc-54a6d83698a5"
      },
      "source": [
        "model.fit_generator(\r\n",
        "  training_set,\r\n",
        "  validation_data=test_set,\r\n",
        "  epochs=50,\r\n",
        "  steps_per_epoch=len(training_set),\r\n",
        "  validation_steps=len(test_set)\r\n",
        ")"
      ],
      "execution_count": 51,
      "outputs": [
        {
          "output_type": "stream",
          "text": [
            "/usr/local/lib/python3.6/dist-packages/tensorflow/python/keras/engine/training.py:1844: UserWarning: `Model.fit_generator` is deprecated and will be removed in a future version. Please use `Model.fit`, which supports generators.\n",
            "  warnings.warn('`Model.fit_generator` is deprecated and '\n"
          ],
          "name": "stderr"
        },
        {
          "output_type": "stream",
          "text": [
            "Epoch 1/50\n",
            "13/13 [==============================] - 8s 458ms/step - loss: 1.7277 - accuracy: 0.4846 - val_loss: 0.5224 - val_accuracy: 0.7463\n",
            "Epoch 2/50\n",
            "13/13 [==============================] - 6s 426ms/step - loss: 0.7327 - accuracy: 0.6381 - val_loss: 0.5781 - val_accuracy: 0.6940\n",
            "Epoch 3/50\n",
            "13/13 [==============================] - 6s 424ms/step - loss: 0.5790 - accuracy: 0.7288 - val_loss: 0.4399 - val_accuracy: 0.7537\n",
            "Epoch 4/50\n",
            "13/13 [==============================] - 5s 421ms/step - loss: 0.3806 - accuracy: 0.8558 - val_loss: 0.3918 - val_accuracy: 0.8060\n",
            "Epoch 5/50\n",
            "13/13 [==============================] - 6s 421ms/step - loss: 0.2973 - accuracy: 0.8827 - val_loss: 0.4199 - val_accuracy: 0.7985\n",
            "Epoch 6/50\n",
            "13/13 [==============================] - 6s 422ms/step - loss: 0.2801 - accuracy: 0.9083 - val_loss: 0.4695 - val_accuracy: 0.7761\n",
            "Epoch 7/50\n",
            "13/13 [==============================] - 5s 420ms/step - loss: 0.2911 - accuracy: 0.8697 - val_loss: 0.3211 - val_accuracy: 0.8731\n",
            "Epoch 8/50\n",
            "13/13 [==============================] - 5s 422ms/step - loss: 0.2372 - accuracy: 0.9237 - val_loss: 0.6576 - val_accuracy: 0.6343\n",
            "Epoch 9/50\n",
            "13/13 [==============================] - 6s 422ms/step - loss: 0.2844 - accuracy: 0.9018 - val_loss: 0.3102 - val_accuracy: 0.8582\n",
            "Epoch 10/50\n",
            "13/13 [==============================] - 5s 419ms/step - loss: 0.1948 - accuracy: 0.9357 - val_loss: 0.2641 - val_accuracy: 0.9254\n",
            "Epoch 11/50\n",
            "13/13 [==============================] - 5s 417ms/step - loss: 0.1949 - accuracy: 0.9449 - val_loss: 0.2624 - val_accuracy: 0.9104\n",
            "Epoch 12/50\n",
            "13/13 [==============================] - 5s 420ms/step - loss: 0.2173 - accuracy: 0.9162 - val_loss: 0.3912 - val_accuracy: 0.7910\n",
            "Epoch 13/50\n",
            "13/13 [==============================] - 6s 433ms/step - loss: 0.1892 - accuracy: 0.9292 - val_loss: 0.2461 - val_accuracy: 0.9179\n",
            "Epoch 14/50\n",
            "13/13 [==============================] - 6s 426ms/step - loss: 0.1613 - accuracy: 0.9640 - val_loss: 0.2174 - val_accuracy: 0.9254\n",
            "Epoch 15/50\n",
            "13/13 [==============================] - 5s 420ms/step - loss: 0.1428 - accuracy: 0.9734 - val_loss: 0.3374 - val_accuracy: 0.8284\n",
            "Epoch 16/50\n",
            "13/13 [==============================] - 6s 429ms/step - loss: 0.1440 - accuracy: 0.9500 - val_loss: 0.2998 - val_accuracy: 0.8731\n",
            "Epoch 17/50\n",
            "13/13 [==============================] - 6s 428ms/step - loss: 0.1290 - accuracy: 0.9687 - val_loss: 0.2397 - val_accuracy: 0.8955\n",
            "Epoch 18/50\n",
            "13/13 [==============================] - 6s 424ms/step - loss: 0.1242 - accuracy: 0.9781 - val_loss: 0.2170 - val_accuracy: 0.9104\n",
            "Epoch 19/50\n",
            "13/13 [==============================] - 6s 422ms/step - loss: 0.1136 - accuracy: 0.9786 - val_loss: 0.1898 - val_accuracy: 0.9478\n",
            "Epoch 20/50\n",
            "13/13 [==============================] - 6s 424ms/step - loss: 0.1372 - accuracy: 0.9664 - val_loss: 0.3935 - val_accuracy: 0.7985\n",
            "Epoch 21/50\n",
            "13/13 [==============================] - 5s 421ms/step - loss: 0.1385 - accuracy: 0.9573 - val_loss: 0.2629 - val_accuracy: 0.8731\n",
            "Epoch 22/50\n",
            "13/13 [==============================] - 6s 422ms/step - loss: 0.1159 - accuracy: 0.9690 - val_loss: 0.1951 - val_accuracy: 0.9254\n",
            "Epoch 23/50\n",
            "13/13 [==============================] - 5s 422ms/step - loss: 0.1305 - accuracy: 0.9607 - val_loss: 0.2445 - val_accuracy: 0.8806\n",
            "Epoch 24/50\n",
            "13/13 [==============================] - 6s 423ms/step - loss: 0.1493 - accuracy: 0.9588 - val_loss: 0.4207 - val_accuracy: 0.8060\n",
            "Epoch 25/50\n",
            "13/13 [==============================] - 6s 427ms/step - loss: 0.1320 - accuracy: 0.9630 - val_loss: 0.1679 - val_accuracy: 0.9627\n",
            "Epoch 26/50\n",
            "13/13 [==============================] - 6s 427ms/step - loss: 0.1329 - accuracy: 0.9528 - val_loss: 0.1648 - val_accuracy: 0.9552\n",
            "Epoch 27/50\n",
            "13/13 [==============================] - 6s 423ms/step - loss: 0.1107 - accuracy: 0.9774 - val_loss: 0.2035 - val_accuracy: 0.9179\n",
            "Epoch 28/50\n",
            "13/13 [==============================] - 6s 427ms/step - loss: 0.0911 - accuracy: 0.9817 - val_loss: 0.1585 - val_accuracy: 0.9627\n",
            "Epoch 29/50\n",
            "13/13 [==============================] - 6s 425ms/step - loss: 0.1072 - accuracy: 0.9772 - val_loss: 0.2125 - val_accuracy: 0.9179\n",
            "Epoch 30/50\n",
            "13/13 [==============================] - 6s 427ms/step - loss: 0.0957 - accuracy: 0.9824 - val_loss: 0.2133 - val_accuracy: 0.9030\n",
            "Epoch 31/50\n",
            "13/13 [==============================] - 6s 428ms/step - loss: 0.0949 - accuracy: 0.9768 - val_loss: 0.4296 - val_accuracy: 0.8134\n",
            "Epoch 32/50\n",
            "13/13 [==============================] - 6s 424ms/step - loss: 0.1540 - accuracy: 0.9475 - val_loss: 0.2042 - val_accuracy: 0.9179\n",
            "Epoch 33/50\n",
            "13/13 [==============================] - 5s 421ms/step - loss: 0.0713 - accuracy: 0.9911 - val_loss: 0.1727 - val_accuracy: 0.9254\n",
            "Epoch 34/50\n",
            "13/13 [==============================] - 6s 425ms/step - loss: 0.0652 - accuracy: 0.9916 - val_loss: 0.2456 - val_accuracy: 0.8731\n",
            "Epoch 35/50\n",
            "13/13 [==============================] - 6s 442ms/step - loss: 0.0586 - accuracy: 0.9945 - val_loss: 0.1812 - val_accuracy: 0.9328\n",
            "Epoch 36/50\n",
            "13/13 [==============================] - 6s 429ms/step - loss: 0.0817 - accuracy: 0.9731 - val_loss: 0.1798 - val_accuracy: 0.9254\n",
            "Epoch 37/50\n",
            "13/13 [==============================] - 6s 426ms/step - loss: 0.0792 - accuracy: 0.9751 - val_loss: 0.1525 - val_accuracy: 0.9552\n",
            "Epoch 38/50\n",
            "13/13 [==============================] - 6s 429ms/step - loss: 0.0920 - accuracy: 0.9722 - val_loss: 0.1471 - val_accuracy: 0.9552\n",
            "Epoch 39/50\n",
            "13/13 [==============================] - 6s 429ms/step - loss: 0.0697 - accuracy: 0.9836 - val_loss: 0.1685 - val_accuracy: 0.9403\n",
            "Epoch 40/50\n",
            "13/13 [==============================] - 6s 426ms/step - loss: 0.0628 - accuracy: 0.9976 - val_loss: 0.1422 - val_accuracy: 0.9478\n",
            "Epoch 41/50\n",
            "13/13 [==============================] - 6s 425ms/step - loss: 0.0837 - accuracy: 0.9866 - val_loss: 0.2493 - val_accuracy: 0.8806\n",
            "Epoch 42/50\n",
            "13/13 [==============================] - 6s 426ms/step - loss: 0.0665 - accuracy: 0.9700 - val_loss: 0.1912 - val_accuracy: 0.9104\n",
            "Epoch 43/50\n",
            "13/13 [==============================] - 6s 424ms/step - loss: 0.0469 - accuracy: 0.9928 - val_loss: 0.1653 - val_accuracy: 0.9328\n",
            "Epoch 44/50\n",
            "13/13 [==============================] - 6s 427ms/step - loss: 0.0720 - accuracy: 0.9732 - val_loss: 0.4646 - val_accuracy: 0.8209\n",
            "Epoch 45/50\n",
            "13/13 [==============================] - 6s 425ms/step - loss: 0.1348 - accuracy: 0.9460 - val_loss: 0.2395 - val_accuracy: 0.8881\n",
            "Epoch 46/50\n",
            "13/13 [==============================] - 6s 429ms/step - loss: 0.0480 - accuracy: 0.9913 - val_loss: 0.1691 - val_accuracy: 0.9403\n",
            "Epoch 47/50\n",
            "13/13 [==============================] - 6s 438ms/step - loss: 0.0512 - accuracy: 0.9948 - val_loss: 0.2441 - val_accuracy: 0.8806\n",
            "Epoch 48/50\n",
            "13/13 [==============================] - 6s 435ms/step - loss: 0.0522 - accuracy: 0.9823 - val_loss: 0.3020 - val_accuracy: 0.8582\n",
            "Epoch 49/50\n",
            "13/13 [==============================] - 6s 423ms/step - loss: 0.1025 - accuracy: 0.9513 - val_loss: 0.1498 - val_accuracy: 0.9552\n",
            "Epoch 50/50\n",
            "13/13 [==============================] - 6s 423ms/step - loss: 0.0658 - accuracy: 0.9886 - val_loss: 0.1782 - val_accuracy: 0.9254\n"
          ],
          "name": "stdout"
        },
        {
          "output_type": "execute_result",
          "data": {
            "text/plain": [
              "<tensorflow.python.keras.callbacks.History at 0x7f68921011d0>"
            ]
          },
          "metadata": {
            "tags": []
          },
          "execution_count": 51
        }
      ]
    },
    {
      "cell_type": "code",
      "metadata": {
        "colab": {
          "base_uri": "https://localhost:8080/"
        },
        "id": "btoye0YlIs4N",
        "outputId": "de9ce41c-91ff-4e31-d040-2a5e90ffd179"
      },
      "source": [
        "y_pred = model.predict(test_set)\r\n",
        "y_pred"
      ],
      "execution_count": 52,
      "outputs": [
        {
          "output_type": "execute_result",
          "data": {
            "text/plain": [
              "array([[3.73123646e-01, 6.26876354e-01],\n",
              "       [9.99996543e-01, 3.46114416e-06],\n",
              "       [9.99998569e-01, 1.43481464e-06],\n",
              "       [2.45596886e-01, 7.54403114e-01],\n",
              "       [4.56675708e-01, 5.43324232e-01],\n",
              "       [9.99412537e-01, 5.87509421e-04],\n",
              "       [9.93339121e-01, 6.66090334e-03],\n",
              "       [8.54151845e-02, 9.14584756e-01],\n",
              "       [9.99965072e-01, 3.49188376e-05],\n",
              "       [4.58969623e-01, 5.41030407e-01],\n",
              "       [9.94232357e-01, 5.76761365e-03],\n",
              "       [9.98829663e-01, 1.17034500e-03],\n",
              "       [9.99569833e-01, 4.30146814e-04],\n",
              "       [9.99177396e-01, 8.22541420e-04],\n",
              "       [9.99940157e-01, 5.98836450e-05],\n",
              "       [9.99966264e-01, 3.37363235e-05],\n",
              "       [1.00000000e+00, 6.24802185e-13],\n",
              "       [9.99829054e-01, 1.70904706e-04],\n",
              "       [7.76573777e-01, 2.23426238e-01],\n",
              "       [1.73603296e-01, 8.26396763e-01],\n",
              "       [1.10320307e-01, 8.89679670e-01],\n",
              "       [9.97268677e-01, 2.73132650e-03],\n",
              "       [4.37574893e-01, 5.62425077e-01],\n",
              "       [1.00000000e+00, 8.92923069e-09],\n",
              "       [9.99035954e-01, 9.64064733e-04],\n",
              "       [9.99886274e-01, 1.13720882e-04],\n",
              "       [9.99991775e-01, 8.27953500e-06],\n",
              "       [1.13455281e-01, 8.86544645e-01],\n",
              "       [2.04440176e-01, 7.95559824e-01],\n",
              "       [9.88223135e-01, 1.17768887e-02],\n",
              "       [6.98977411e-01, 3.01022619e-01],\n",
              "       [5.17821945e-02, 9.48217809e-01],\n",
              "       [9.98991787e-01, 1.00815704e-03],\n",
              "       [9.98748064e-01, 1.25194213e-03],\n",
              "       [8.66477132e-01, 1.33522823e-01],\n",
              "       [3.58944297e-01, 6.41055763e-01],\n",
              "       [9.99802053e-01, 1.97931528e-04],\n",
              "       [3.20164770e-01, 6.79835260e-01],\n",
              "       [1.00000000e+00, 4.21635988e-08],\n",
              "       [9.90312576e-01, 9.68743395e-03],\n",
              "       [1.88447818e-01, 8.11552227e-01],\n",
              "       [9.38418269e-01, 6.15817495e-02],\n",
              "       [9.99902844e-01, 9.71931295e-05],\n",
              "       [1.64608449e-01, 8.35391581e-01],\n",
              "       [9.99945283e-01, 5.47297495e-05],\n",
              "       [9.94796932e-01, 5.20305755e-03],\n",
              "       [8.90617132e-01, 1.09382831e-01],\n",
              "       [2.77319670e-01, 7.22680390e-01],\n",
              "       [9.99752581e-01, 2.47373158e-04],\n",
              "       [9.99994874e-01, 5.07576306e-06],\n",
              "       [6.22158587e-01, 3.77841353e-01],\n",
              "       [9.84301805e-01, 1.56981964e-02],\n",
              "       [9.78568792e-01, 2.14311834e-02],\n",
              "       [1.00000000e+00, 3.53964108e-10],\n",
              "       [9.99852777e-01, 1.47194936e-04],\n",
              "       [3.87650698e-01, 6.12349331e-01],\n",
              "       [9.99997020e-01, 2.99940257e-06],\n",
              "       [9.99997139e-01, 2.82062501e-06],\n",
              "       [6.73647344e-01, 3.26352626e-01],\n",
              "       [5.93677282e-01, 4.06322747e-01],\n",
              "       [9.97247398e-01, 2.75262026e-03],\n",
              "       [1.50722176e-01, 8.49277854e-01],\n",
              "       [2.88073957e-01, 7.11926103e-01],\n",
              "       [9.99113262e-01, 8.86729162e-04],\n",
              "       [9.97988582e-01, 2.01147236e-03],\n",
              "       [9.99998569e-01, 1.38367182e-06],\n",
              "       [2.16686666e-01, 7.83313334e-01],\n",
              "       [9.99277413e-01, 7.22544966e-04],\n",
              "       [6.80886924e-01, 3.19113076e-01],\n",
              "       [2.13549569e-01, 7.86450505e-01],\n",
              "       [9.94240522e-01, 5.75946504e-03],\n",
              "       [9.70234513e-01, 2.97654476e-02],\n",
              "       [9.94505823e-01, 5.49416523e-03],\n",
              "       [1.07992165e-01, 8.92007887e-01],\n",
              "       [7.68918157e-01, 2.31081858e-01],\n",
              "       [9.95577812e-01, 4.42226930e-03],\n",
              "       [8.60673010e-01, 1.39326960e-01],\n",
              "       [9.33918059e-01, 6.60819411e-02],\n",
              "       [9.99994993e-01, 4.98756799e-06],\n",
              "       [1.00000000e+00, 4.24284501e-08],\n",
              "       [7.27662623e-01, 2.72337407e-01],\n",
              "       [9.99614835e-01, 3.85144987e-04],\n",
              "       [1.54530168e-01, 8.45469832e-01],\n",
              "       [9.75720525e-01, 2.42794510e-02],\n",
              "       [9.99991179e-01, 8.78396077e-06],\n",
              "       [9.61743534e-01, 3.82564180e-02],\n",
              "       [9.99053657e-01, 9.46307613e-04],\n",
              "       [2.66743273e-01, 7.33256698e-01],\n",
              "       [9.94540870e-01, 5.45912702e-03],\n",
              "       [5.29582441e-01, 4.70417589e-01],\n",
              "       [9.98329818e-01, 1.67017535e-03],\n",
              "       [1.73695922e-01, 8.26304138e-01],\n",
              "       [9.99593079e-01, 4.06903418e-04],\n",
              "       [2.41360635e-01, 7.58639395e-01],\n",
              "       [2.04140976e-01, 7.95859039e-01],\n",
              "       [8.91566277e-01, 1.08433671e-01],\n",
              "       [9.99978423e-01, 2.15219388e-05],\n",
              "       [9.99946833e-01, 5.32214544e-05],\n",
              "       [3.04384023e-01, 6.95616007e-01],\n",
              "       [9.85224009e-01, 1.47759635e-02],\n",
              "       [9.99579012e-01, 4.21044766e-04],\n",
              "       [9.99985337e-01, 1.46257617e-05],\n",
              "       [9.99564826e-01, 4.35153692e-04],\n",
              "       [9.99783218e-01, 2.16819244e-04],\n",
              "       [9.19010878e-01, 8.09891745e-02],\n",
              "       [9.42030907e-01, 5.79690710e-02],\n",
              "       [1.73044667e-01, 8.26955318e-01],\n",
              "       [9.98106122e-01, 1.89380429e-03],\n",
              "       [2.18097270e-01, 7.81902790e-01],\n",
              "       [9.86393750e-01, 1.36062549e-02],\n",
              "       [2.29439855e-01, 7.70560205e-01],\n",
              "       [7.09547698e-02, 9.29045260e-01],\n",
              "       [6.94732070e-01, 3.05267900e-01],\n",
              "       [1.88136801e-01, 8.11863184e-01],\n",
              "       [9.99829412e-01, 1.70541534e-04],\n",
              "       [8.28835845e-01, 1.71164185e-01],\n",
              "       [5.79617918e-01, 4.20382112e-01],\n",
              "       [4.54638660e-01, 5.45361400e-01],\n",
              "       [6.53241456e-01, 3.46758515e-01],\n",
              "       [9.70043600e-01, 2.99563948e-02],\n",
              "       [2.51682460e-01, 7.48317540e-01],\n",
              "       [9.51063335e-01, 4.89366688e-02],\n",
              "       [9.99185979e-01, 8.13964347e-04],\n",
              "       [9.99874234e-01, 1.25791310e-04],\n",
              "       [1.00000000e+00, 1.65683520e-08],\n",
              "       [9.96459424e-01, 3.54060368e-03],\n",
              "       [9.94588733e-01, 5.41126868e-03],\n",
              "       [2.66258031e-01, 7.33741999e-01],\n",
              "       [9.99990463e-01, 9.58088731e-06],\n",
              "       [9.98159707e-01, 1.84033054e-03],\n",
              "       [6.86554492e-01, 3.13445508e-01],\n",
              "       [2.76588500e-01, 7.23411500e-01],\n",
              "       [9.99730766e-01, 2.69227749e-04],\n",
              "       [9.99925852e-01, 7.41747717e-05]], dtype=float32)"
            ]
          },
          "metadata": {
            "tags": []
          },
          "execution_count": 52
        }
      ]
    },
    {
      "cell_type": "code",
      "metadata": {
        "colab": {
          "base_uri": "https://localhost:8080/"
        },
        "id": "qFH5G8SGIs8O",
        "outputId": "dbe9f8aa-27bf-4597-94ee-cc19517d2d44"
      },
      "source": [
        "y_pred = np.argmax(y_pred, axis=1)\r\n",
        "y_pred"
      ],
      "execution_count": 53,
      "outputs": [
        {
          "output_type": "execute_result",
          "data": {
            "text/plain": [
              "array([1, 0, 0, 1, 1, 0, 0, 1, 0, 1, 0, 0, 0, 0, 0, 0, 0, 0, 0, 1, 1, 0,\n",
              "       1, 0, 0, 0, 0, 1, 1, 0, 0, 1, 0, 0, 0, 1, 0, 1, 0, 0, 1, 0, 0, 1,\n",
              "       0, 0, 0, 1, 0, 0, 0, 0, 0, 0, 0, 1, 0, 0, 0, 0, 0, 1, 1, 0, 0, 0,\n",
              "       1, 0, 0, 1, 0, 0, 0, 1, 0, 0, 0, 0, 0, 0, 0, 0, 1, 0, 0, 0, 0, 1,\n",
              "       0, 0, 0, 1, 0, 1, 1, 0, 0, 0, 1, 0, 0, 0, 0, 0, 0, 0, 1, 0, 1, 0,\n",
              "       1, 1, 0, 1, 0, 0, 0, 1, 0, 0, 1, 0, 0, 0, 0, 0, 0, 1, 0, 0, 0, 1,\n",
              "       0, 0])"
            ]
          },
          "metadata": {
            "tags": []
          },
          "execution_count": 53
        }
      ]
    },
    {
      "cell_type": "markdown",
      "metadata": {
        "id": "DF4Xxg-qI58J"
      },
      "source": [
        "## MODEL PREDICITON"
      ]
    },
    {
      "cell_type": "code",
      "metadata": {
        "colab": {
          "base_uri": "https://localhost:8080/"
        },
        "id": "o0fI3BmLGP8_",
        "outputId": "790470ad-4feb-4144-c50a-830f95c6901a"
      },
      "source": [
        "imag = image.load_img('/content/m1.png', target_size = (224, 224))\r\n",
        "x = image.img_to_array(imag)\r\n",
        "x=x/255\r\n",
        "test_image = np.expand_dims(x, axis = 0)\r\n",
        "result = model.predict(test_image)\r\n",
        "result=np.argmax(result, axis=1)\r\n",
        "if result==0:\r\n",
        " print(\"Infected\")\r\n",
        "else:\r\n",
        "  print(\"Healthy and no disease\")"
      ],
      "execution_count": 54,
      "outputs": [
        {
          "output_type": "stream",
          "text": [
            "Infected\n"
          ],
          "name": "stdout"
        }
      ]
    },
    {
      "cell_type": "code",
      "metadata": {
        "colab": {
          "base_uri": "https://localhost:8080/"
        },
        "id": "0QUz-MHpGQAs",
        "outputId": "7ce3bd08-aa52-49c1-f6b7-b56c953fdac7"
      },
      "source": [
        "imag = image.load_img('/content/m2.png', target_size = (224, 224))\r\n",
        "x = image.img_to_array(imag)\r\n",
        "x=x/255\r\n",
        "test_image = np.expand_dims(x, axis = 0)\r\n",
        "result = model.predict(test_image)\r\n",
        "result=np.argmax(result, axis=1)\r\n",
        "if result==0:\r\n",
        " print(\"Infected\")\r\n",
        "else:\r\n",
        "  print(\"Healthy and no disease\")"
      ],
      "execution_count": 55,
      "outputs": [
        {
          "output_type": "stream",
          "text": [
            "Healthy and no disease\n"
          ],
          "name": "stdout"
        }
      ]
    }
  ]
}