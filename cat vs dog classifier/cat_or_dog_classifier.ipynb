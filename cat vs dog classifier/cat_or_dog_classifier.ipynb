{
  "nbformat": 4,
  "nbformat_minor": 0,
  "metadata": {
    "colab": {
      "name": "cat or dog classifier ",
      "provenance": []
    },
    "kernelspec": {
      "name": "python3",
      "display_name": "Python 3"
    },
    "accelerator": "GPU"
  },
  "cells": [
    {
      "cell_type": "markdown",
      "metadata": {
        "id": "EqB4a22vS98B"
      },
      "source": [
        "## CAT AND DOG CLASSIFIER"
      ]
    },
    {
      "cell_type": "code",
      "metadata": {
        "id": "9ffSSTQqRcp1"
      },
      "source": [
        "# Data Uploading\r\n",
        "from keras.preprocessing.image import ImageDataGenerator"
      ],
      "execution_count": 125,
      "outputs": []
    },
    {
      "cell_type": "code",
      "metadata": {
        "colab": {
          "base_uri": "https://localhost:8080/"
        },
        "id": "TDBVrVfQSu8b",
        "outputId": "c0e232b3-5ad0-4a51-b947-f44ff0ecda2e"
      },
      "source": [
        "train_data = ImageDataGenerator(rescale=1./255,\r\n",
        "                                   shear_range=0.2,\r\n",
        "                                   zoom_range=0.2,\r\n",
        "                                   horizontal_flip=True)\r\n",
        "\r\n",
        "# Importing Training set\r\n",
        "training_set = train_data.flow_from_directory('train',\r\n",
        "                                                    target_size=(64, 64),\r\n",
        "                                                    batch_size=16,\r\n",
        "                                                    class_mode='binary')"
      ],
      "execution_count": 126,
      "outputs": [
        {
          "output_type": "stream",
          "text": [
            "Found 20 images belonging to 2 classes.\n"
          ],
          "name": "stdout"
        }
      ]
    },
    {
      "cell_type": "code",
      "metadata": {
        "colab": {
          "base_uri": "https://localhost:8080/"
        },
        "id": "MxsuVAqZUVE0",
        "outputId": "d950b11b-15a8-4c7a-af1c-2a09b5884b4c"
      },
      "source": [
        "test_data = ImageDataGenerator(rescale=1./255)\r\n",
        "\r\n",
        "# Importing Test set\r\n",
        "test_set = test_data.flow_from_directory('test',\r\n",
        "                                            target_size=(64, 64),\r\n",
        "                                            batch_size=16,\r\n",
        "                                            class_mode='binary')"
      ],
      "execution_count": 127,
      "outputs": [
        {
          "output_type": "stream",
          "text": [
            "Found 4 images belonging to 2 classes.\n"
          ],
          "name": "stdout"
        }
      ]
    },
    {
      "cell_type": "markdown",
      "metadata": {
        "id": "P8G-4X82TJoH"
      },
      "source": [
        "# MODEL BUILDING"
      ]
    },
    {
      "cell_type": "markdown",
      "metadata": {
        "id": "FXNIX1jVTOVb"
      },
      "source": [
        "## FIRST CNN MODEL"
      ]
    },
    {
      "cell_type": "code",
      "metadata": {
        "id": "dpz2qS8cTU9g"
      },
      "source": [
        "from keras.models import Sequential\r\n",
        "from keras.layers import Conv2D, MaxPooling2D\r\n",
        "from keras.layers import Activation, Dropout, Flatten, Dense"
      ],
      "execution_count": 128,
      "outputs": []
    },
    {
      "cell_type": "code",
      "metadata": {
        "id": "WSFj58UtTVAq"
      },
      "source": [
        "#initializing CNN Model\r\n",
        "model = Sequential()\r\n",
        "#Adding convolution layer\r\n",
        "model.add(Conv2D(filters=32, kernel_size=(2,2), activation='relu', input_shape=(64, 64, 3)))\r\n",
        "#Adding Max pooling layer\r\n",
        "model.add(MaxPooling2D(pool_size=(2, 2)))\r\n",
        "# Adding second convolution layer\r\n",
        "model.add(Conv2D(filters=64, kernel_size=(2,2), activation='relu'))\r\n",
        "#Adding Max pooling layer\r\n",
        "model.add(MaxPooling2D(pool_size=(2, 2)))\r\n",
        "#Adding Flattening Layer - converts our 3D feature maps to 1D feature vectors\r\n",
        "model.add(Flatten())\r\n",
        "#Adding Fully Connected Layer\r\n",
        "model.add(Dense(units = 128, activation = \"relu\"))\r\n",
        "#Adding output Layer\r\n",
        "model.add(Dense(units=1, activation='sigmoid'))"
      ],
      "execution_count": 129,
      "outputs": []
    },
    {
      "cell_type": "code",
      "metadata": {
        "colab": {
          "base_uri": "https://localhost:8080/"
        },
        "id": "0_J86_tCYOLA",
        "outputId": "c30ec9a7-1de6-441b-8887-cbfa9c8947a8"
      },
      "source": [
        "model.summary()"
      ],
      "execution_count": 130,
      "outputs": [
        {
          "output_type": "stream",
          "text": [
            "Model: \"sequential_10\"\n",
            "_________________________________________________________________\n",
            "Layer (type)                 Output Shape              Param #   \n",
            "=================================================================\n",
            "conv2d_19 (Conv2D)           (None, 63, 63, 32)        416       \n",
            "_________________________________________________________________\n",
            "max_pooling2d_19 (MaxPooling (None, 31, 31, 32)        0         \n",
            "_________________________________________________________________\n",
            "conv2d_20 (Conv2D)           (None, 30, 30, 64)        8256      \n",
            "_________________________________________________________________\n",
            "max_pooling2d_20 (MaxPooling (None, 15, 15, 64)        0         \n",
            "_________________________________________________________________\n",
            "flatten_10 (Flatten)         (None, 14400)             0         \n",
            "_________________________________________________________________\n",
            "dense_20 (Dense)             (None, 128)               1843328   \n",
            "_________________________________________________________________\n",
            "dense_21 (Dense)             (None, 1)                 129       \n",
            "=================================================================\n",
            "Total params: 1,852,129\n",
            "Trainable params: 1,852,129\n",
            "Non-trainable params: 0\n",
            "_________________________________________________________________\n"
          ],
          "name": "stdout"
        }
      ]
    },
    {
      "cell_type": "code",
      "metadata": {
        "id": "JLcLvCUjTVG7"
      },
      "source": [
        "model.compile(loss='binary_crossentropy', optimizer='adam', metrics=['accuracy'])"
      ],
      "execution_count": 131,
      "outputs": []
    },
    {
      "cell_type": "code",
      "metadata": {
        "colab": {
          "base_uri": "https://localhost:8080/"
        },
        "id": "DT7zAJkHTVK2",
        "outputId": "51b9490d-96ab-469a-ad6b-f4418e5dfc66"
      },
      "source": [
        "model_out = model.fit(x=training_set, validation_data=test_set, epochs=100)"
      ],
      "execution_count": 132,
      "outputs": [
        {
          "output_type": "stream",
          "text": [
            "Epoch 1/100\n",
            "2/2 [==============================] - 1s 242ms/step - loss: 0.8295 - accuracy: 0.3833 - val_loss: 0.9626 - val_accuracy: 0.5000\n",
            "Epoch 2/100\n",
            "2/2 [==============================] - 0s 110ms/step - loss: 1.0267 - accuracy: 0.4167 - val_loss: 0.6819 - val_accuracy: 0.5000\n",
            "Epoch 3/100\n",
            "2/2 [==============================] - 0s 66ms/step - loss: 0.7050 - accuracy: 0.5000 - val_loss: 0.6867 - val_accuracy: 0.5000\n",
            "Epoch 4/100\n",
            "2/2 [==============================] - 0s 68ms/step - loss: 0.7039 - accuracy: 0.5000 - val_loss: 0.6685 - val_accuracy: 0.7500\n",
            "Epoch 5/100\n",
            "2/2 [==============================] - 0s 112ms/step - loss: 0.6751 - accuracy: 0.5000 - val_loss: 0.7020 - val_accuracy: 0.5000\n",
            "Epoch 6/100\n",
            "2/2 [==============================] - 0s 122ms/step - loss: 0.7147 - accuracy: 0.4500 - val_loss: 0.6835 - val_accuracy: 0.5000\n",
            "Epoch 7/100\n",
            "2/2 [==============================] - 0s 65ms/step - loss: 0.6388 - accuracy: 0.6750 - val_loss: 0.6687 - val_accuracy: 0.7500\n",
            "Epoch 8/100\n",
            "2/2 [==============================] - 0s 108ms/step - loss: 0.6257 - accuracy: 0.6167 - val_loss: 0.6952 - val_accuracy: 0.5000\n",
            "Epoch 9/100\n",
            "2/2 [==============================] - 0s 115ms/step - loss: 0.6722 - accuracy: 0.5000 - val_loss: 0.6828 - val_accuracy: 0.5000\n",
            "Epoch 10/100\n",
            "2/2 [==============================] - 0s 65ms/step - loss: 0.6320 - accuracy: 0.5875 - val_loss: 0.6685 - val_accuracy: 0.7500\n",
            "Epoch 11/100\n",
            "2/2 [==============================] - 0s 106ms/step - loss: 0.5596 - accuracy: 0.8667 - val_loss: 0.6663 - val_accuracy: 0.5000\n",
            "Epoch 12/100\n",
            "2/2 [==============================] - 0s 65ms/step - loss: 0.5835 - accuracy: 0.7708 - val_loss: 0.6773 - val_accuracy: 0.5000\n",
            "Epoch 13/100\n",
            "2/2 [==============================] - 0s 60ms/step - loss: 0.5762 - accuracy: 0.6417 - val_loss: 0.7043 - val_accuracy: 0.5000\n",
            "Epoch 14/100\n",
            "2/2 [==============================] - 0s 64ms/step - loss: 0.5780 - accuracy: 0.6625 - val_loss: 0.6684 - val_accuracy: 0.5000\n",
            "Epoch 15/100\n",
            "2/2 [==============================] - 0s 102ms/step - loss: 0.5394 - accuracy: 0.7833 - val_loss: 0.7011 - val_accuracy: 0.5000\n",
            "Epoch 16/100\n",
            "2/2 [==============================] - 0s 69ms/step - loss: 0.5404 - accuracy: 0.7375 - val_loss: 0.6866 - val_accuracy: 0.5000\n",
            "Epoch 17/100\n",
            "2/2 [==============================] - 0s 64ms/step - loss: 0.4597 - accuracy: 0.9125 - val_loss: 0.6665 - val_accuracy: 0.5000\n",
            "Epoch 18/100\n",
            "2/2 [==============================] - 0s 107ms/step - loss: 0.5113 - accuracy: 0.6333 - val_loss: 0.6738 - val_accuracy: 0.5000\n",
            "Epoch 19/100\n",
            "2/2 [==============================] - 0s 107ms/step - loss: 0.4364 - accuracy: 1.0000 - val_loss: 0.6484 - val_accuracy: 0.7500\n",
            "Epoch 20/100\n",
            "2/2 [==============================] - 0s 105ms/step - loss: 0.4446 - accuracy: 0.9667 - val_loss: 0.6857 - val_accuracy: 0.5000\n",
            "Epoch 21/100\n",
            "2/2 [==============================] - 0s 60ms/step - loss: 0.3891 - accuracy: 0.8917 - val_loss: 0.6497 - val_accuracy: 0.5000\n",
            "Epoch 22/100\n",
            "2/2 [==============================] - 0s 69ms/step - loss: 0.3522 - accuracy: 0.9667 - val_loss: 0.7509 - val_accuracy: 0.5000\n",
            "Epoch 23/100\n",
            "2/2 [==============================] - 0s 62ms/step - loss: 0.4236 - accuracy: 0.8458 - val_loss: 0.6327 - val_accuracy: 0.7500\n",
            "Epoch 24/100\n",
            "2/2 [==============================] - 0s 63ms/step - loss: 0.2986 - accuracy: 0.8583 - val_loss: 0.9130 - val_accuracy: 0.5000\n",
            "Epoch 25/100\n",
            "2/2 [==============================] - 0s 59ms/step - loss: 0.4038 - accuracy: 0.7833 - val_loss: 0.8645 - val_accuracy: 0.5000\n",
            "Epoch 26/100\n",
            "2/2 [==============================] - 0s 228ms/step - loss: 0.3176 - accuracy: 0.9667 - val_loss: 0.6474 - val_accuracy: 0.5000\n",
            "Epoch 27/100\n",
            "2/2 [==============================] - 0s 106ms/step - loss: 0.2356 - accuracy: 0.9667 - val_loss: 0.6755 - val_accuracy: 0.5000\n",
            "Epoch 28/100\n",
            "2/2 [==============================] - 0s 71ms/step - loss: 0.2905 - accuracy: 0.9458 - val_loss: 0.6873 - val_accuracy: 0.5000\n",
            "Epoch 29/100\n",
            "2/2 [==============================] - 0s 65ms/step - loss: 0.2190 - accuracy: 1.0000 - val_loss: 0.6371 - val_accuracy: 0.7500\n",
            "Epoch 30/100\n",
            "2/2 [==============================] - 0s 66ms/step - loss: 0.2051 - accuracy: 1.0000 - val_loss: 0.6444 - val_accuracy: 0.2500\n",
            "Epoch 31/100\n",
            "2/2 [==============================] - 0s 105ms/step - loss: 0.2267 - accuracy: 1.0000 - val_loss: 0.6675 - val_accuracy: 0.7500\n",
            "Epoch 32/100\n",
            "2/2 [==============================] - 0s 65ms/step - loss: 0.1767 - accuracy: 1.0000 - val_loss: 0.7000 - val_accuracy: 0.7500\n",
            "Epoch 33/100\n",
            "2/2 [==============================] - 0s 71ms/step - loss: 0.2196 - accuracy: 1.0000 - val_loss: 0.6789 - val_accuracy: 0.7500\n",
            "Epoch 34/100\n",
            "2/2 [==============================] - 0s 63ms/step - loss: 0.1328 - accuracy: 0.9458 - val_loss: 0.6983 - val_accuracy: 0.5000\n",
            "Epoch 35/100\n",
            "2/2 [==============================] - 0s 105ms/step - loss: 0.1189 - accuracy: 1.0000 - val_loss: 0.7702 - val_accuracy: 0.2500\n",
            "Epoch 36/100\n",
            "2/2 [==============================] - 0s 106ms/step - loss: 0.1310 - accuracy: 1.0000 - val_loss: 0.9189 - val_accuracy: 0.2500\n",
            "Epoch 37/100\n",
            "2/2 [==============================] - 0s 108ms/step - loss: 0.0835 - accuracy: 1.0000 - val_loss: 0.7454 - val_accuracy: 0.5000\n",
            "Epoch 38/100\n",
            "2/2 [==============================] - 0s 106ms/step - loss: 0.0945 - accuracy: 1.0000 - val_loss: 0.7657 - val_accuracy: 0.7500\n",
            "Epoch 39/100\n",
            "2/2 [==============================] - 0s 67ms/step - loss: 0.1083 - accuracy: 0.9458 - val_loss: 0.9629 - val_accuracy: 0.2500\n",
            "Epoch 40/100\n",
            "2/2 [==============================] - 0s 105ms/step - loss: 0.2056 - accuracy: 0.8833 - val_loss: 0.7779 - val_accuracy: 0.2500\n",
            "Epoch 41/100\n",
            "2/2 [==============================] - 0s 103ms/step - loss: 0.0483 - accuracy: 1.0000 - val_loss: 0.8961 - val_accuracy: 0.5000\n",
            "Epoch 42/100\n",
            "2/2 [==============================] - 0s 67ms/step - loss: 0.0895 - accuracy: 1.0000 - val_loss: 0.9661 - val_accuracy: 0.5000\n",
            "Epoch 43/100\n",
            "2/2 [==============================] - 0s 63ms/step - loss: 0.0650 - accuracy: 1.0000 - val_loss: 0.8599 - val_accuracy: 0.7500\n",
            "Epoch 44/100\n",
            "2/2 [==============================] - 0s 107ms/step - loss: 0.0379 - accuracy: 1.0000 - val_loss: 0.8786 - val_accuracy: 0.2500\n",
            "Epoch 45/100\n",
            "2/2 [==============================] - 0s 64ms/step - loss: 0.0969 - accuracy: 1.0000 - val_loss: 0.8472 - val_accuracy: 0.2500\n",
            "Epoch 46/100\n",
            "2/2 [==============================] - 0s 64ms/step - loss: 0.0570 - accuracy: 1.0000 - val_loss: 0.8486 - val_accuracy: 0.5000\n",
            "Epoch 47/100\n",
            "2/2 [==============================] - 0s 62ms/step - loss: 0.0410 - accuracy: 1.0000 - val_loss: 0.8621 - val_accuracy: 0.5000\n",
            "Epoch 48/100\n",
            "2/2 [==============================] - 0s 63ms/step - loss: 0.0406 - accuracy: 1.0000 - val_loss: 0.8387 - val_accuracy: 0.5000\n",
            "Epoch 49/100\n",
            "2/2 [==============================] - 0s 71ms/step - loss: 0.0380 - accuracy: 1.0000 - val_loss: 0.8602 - val_accuracy: 0.2500\n",
            "Epoch 50/100\n",
            "2/2 [==============================] - 0s 108ms/step - loss: 0.0346 - accuracy: 1.0000 - val_loss: 0.8518 - val_accuracy: 0.2500\n",
            "Epoch 51/100\n",
            "2/2 [==============================] - 0s 68ms/step - loss: 0.0357 - accuracy: 1.0000 - val_loss: 0.8225 - val_accuracy: 0.5000\n",
            "Epoch 52/100\n",
            "2/2 [==============================] - 0s 67ms/step - loss: 0.0204 - accuracy: 1.0000 - val_loss: 0.9801 - val_accuracy: 0.5000\n",
            "Epoch 53/100\n",
            "2/2 [==============================] - 0s 108ms/step - loss: 0.0245 - accuracy: 1.0000 - val_loss: 1.0921 - val_accuracy: 0.5000\n",
            "Epoch 54/100\n",
            "2/2 [==============================] - 0s 103ms/step - loss: 0.0218 - accuracy: 1.0000 - val_loss: 0.8837 - val_accuracy: 0.5000\n",
            "Epoch 55/100\n",
            "2/2 [==============================] - 0s 107ms/step - loss: 0.0559 - accuracy: 1.0000 - val_loss: 0.7820 - val_accuracy: 0.2500\n",
            "Epoch 56/100\n",
            "2/2 [==============================] - 0s 130ms/step - loss: 0.0290 - accuracy: 1.0000 - val_loss: 0.7409 - val_accuracy: 0.2500\n",
            "Epoch 57/100\n",
            "2/2 [==============================] - 0s 111ms/step - loss: 0.0228 - accuracy: 1.0000 - val_loss: 0.7389 - val_accuracy: 0.2500\n",
            "Epoch 58/100\n",
            "2/2 [==============================] - 0s 121ms/step - loss: 0.0051 - accuracy: 1.0000 - val_loss: 0.7944 - val_accuracy: 0.5000\n",
            "Epoch 59/100\n",
            "2/2 [==============================] - 0s 62ms/step - loss: 0.0174 - accuracy: 1.0000 - val_loss: 0.7501 - val_accuracy: 0.2500\n",
            "Epoch 60/100\n",
            "2/2 [==============================] - 0s 105ms/step - loss: 0.0066 - accuracy: 1.0000 - val_loss: 0.7211 - val_accuracy: 0.5000\n",
            "Epoch 61/100\n",
            "2/2 [==============================] - 0s 99ms/step - loss: 0.0105 - accuracy: 1.0000 - val_loss: 0.7880 - val_accuracy: 0.5000\n",
            "Epoch 62/100\n",
            "2/2 [==============================] - 0s 118ms/step - loss: 0.0055 - accuracy: 1.0000 - val_loss: 0.7849 - val_accuracy: 0.5000\n",
            "Epoch 63/100\n",
            "2/2 [==============================] - 0s 104ms/step - loss: 0.0107 - accuracy: 1.0000 - val_loss: 0.7805 - val_accuracy: 0.7500\n",
            "Epoch 64/100\n",
            "2/2 [==============================] - 0s 106ms/step - loss: 0.0229 - accuracy: 1.0000 - val_loss: 0.8649 - val_accuracy: 0.5000\n",
            "Epoch 65/100\n",
            "2/2 [==============================] - 0s 67ms/step - loss: 0.0120 - accuracy: 1.0000 - val_loss: 0.7787 - val_accuracy: 0.5000\n",
            "Epoch 66/100\n",
            "2/2 [==============================] - 0s 63ms/step - loss: 0.0060 - accuracy: 1.0000 - val_loss: 0.8188 - val_accuracy: 0.2500\n",
            "Epoch 67/100\n",
            "2/2 [==============================] - 0s 61ms/step - loss: 0.0061 - accuracy: 1.0000 - val_loss: 0.8219 - val_accuracy: 0.5000\n",
            "Epoch 68/100\n",
            "2/2 [==============================] - 0s 105ms/step - loss: 0.0108 - accuracy: 1.0000 - val_loss: 0.7935 - val_accuracy: 0.5000\n",
            "Epoch 69/100\n",
            "2/2 [==============================] - 0s 67ms/step - loss: 0.0064 - accuracy: 1.0000 - val_loss: 0.9103 - val_accuracy: 0.2500\n",
            "Epoch 70/100\n",
            "2/2 [==============================] - 0s 159ms/step - loss: 0.0270 - accuracy: 1.0000 - val_loss: 0.8942 - val_accuracy: 0.2500\n",
            "Epoch 71/100\n",
            "2/2 [==============================] - 0s 66ms/step - loss: 0.0078 - accuracy: 1.0000 - val_loss: 0.8940 - val_accuracy: 0.2500\n",
            "Epoch 72/100\n",
            "2/2 [==============================] - 0s 119ms/step - loss: 0.0109 - accuracy: 1.0000 - val_loss: 0.8480 - val_accuracy: 0.5000\n",
            "Epoch 73/100\n",
            "2/2 [==============================] - 0s 64ms/step - loss: 0.0041 - accuracy: 1.0000 - val_loss: 0.9770 - val_accuracy: 0.7500\n",
            "Epoch 74/100\n",
            "2/2 [==============================] - 0s 64ms/step - loss: 0.0183 - accuracy: 1.0000 - val_loss: 0.8944 - val_accuracy: 0.2500\n",
            "Epoch 75/100\n",
            "2/2 [==============================] - 0s 64ms/step - loss: 0.0069 - accuracy: 1.0000 - val_loss: 1.4726 - val_accuracy: 0.5000\n",
            "Epoch 76/100\n",
            "2/2 [==============================] - 0s 113ms/step - loss: 0.0316 - accuracy: 1.0000 - val_loss: 1.3824 - val_accuracy: 0.5000\n",
            "Epoch 77/100\n",
            "2/2 [==============================] - 0s 60ms/step - loss: 0.0265 - accuracy: 1.0000 - val_loss: 0.8855 - val_accuracy: 0.5000\n",
            "Epoch 78/100\n",
            "2/2 [==============================] - 0s 65ms/step - loss: 0.0143 - accuracy: 1.0000 - val_loss: 1.1248 - val_accuracy: 0.5000\n",
            "Epoch 79/100\n",
            "2/2 [==============================] - 0s 111ms/step - loss: 0.0124 - accuracy: 1.0000 - val_loss: 1.0284 - val_accuracy: 0.7500\n",
            "Epoch 80/100\n",
            "2/2 [==============================] - 0s 104ms/step - loss: 0.0179 - accuracy: 1.0000 - val_loss: 1.0866 - val_accuracy: 0.7500\n",
            "Epoch 81/100\n",
            "2/2 [==============================] - 0s 62ms/step - loss: 0.0118 - accuracy: 1.0000 - val_loss: 1.0817 - val_accuracy: 0.7500\n",
            "Epoch 82/100\n",
            "2/2 [==============================] - 0s 62ms/step - loss: 0.0079 - accuracy: 1.0000 - val_loss: 1.1108 - val_accuracy: 0.7500\n",
            "Epoch 83/100\n",
            "2/2 [==============================] - 0s 67ms/step - loss: 0.0092 - accuracy: 1.0000 - val_loss: 1.1212 - val_accuracy: 0.7500\n",
            "Epoch 84/100\n",
            "2/2 [==============================] - 0s 111ms/step - loss: 0.0054 - accuracy: 1.0000 - val_loss: 1.1549 - val_accuracy: 0.7500\n",
            "Epoch 85/100\n",
            "2/2 [==============================] - 0s 106ms/step - loss: 0.0118 - accuracy: 1.0000 - val_loss: 1.1751 - val_accuracy: 0.5000\n",
            "Epoch 86/100\n",
            "2/2 [==============================] - 0s 69ms/step - loss: 0.0092 - accuracy: 1.0000 - val_loss: 1.3005 - val_accuracy: 0.2500\n",
            "Epoch 87/100\n",
            "2/2 [==============================] - 0s 100ms/step - loss: 0.0064 - accuracy: 1.0000 - val_loss: 1.4364 - val_accuracy: 0.2500\n",
            "Epoch 88/100\n",
            "2/2 [==============================] - 0s 63ms/step - loss: 0.0067 - accuracy: 1.0000 - val_loss: 1.4527 - val_accuracy: 0.2500\n",
            "Epoch 89/100\n",
            "2/2 [==============================] - 0s 61ms/step - loss: 0.0091 - accuracy: 1.0000 - val_loss: 1.3260 - val_accuracy: 0.2500\n",
            "Epoch 90/100\n",
            "2/2 [==============================] - 0s 74ms/step - loss: 0.0105 - accuracy: 1.0000 - val_loss: 1.4128 - val_accuracy: 0.7500\n",
            "Epoch 91/100\n",
            "2/2 [==============================] - 0s 66ms/step - loss: 0.0074 - accuracy: 1.0000 - val_loss: 1.5328 - val_accuracy: 0.7500\n",
            "Epoch 92/100\n",
            "2/2 [==============================] - 0s 110ms/step - loss: 0.0125 - accuracy: 1.0000 - val_loss: 1.4105 - val_accuracy: 0.7500\n",
            "Epoch 93/100\n",
            "2/2 [==============================] - 0s 113ms/step - loss: 0.0039 - accuracy: 1.0000 - val_loss: 1.4234 - val_accuracy: 0.2500\n",
            "Epoch 94/100\n",
            "2/2 [==============================] - 0s 105ms/step - loss: 0.0020 - accuracy: 1.0000 - val_loss: 1.5534 - val_accuracy: 0.2500\n",
            "Epoch 95/100\n",
            "2/2 [==============================] - 0s 108ms/step - loss: 0.0227 - accuracy: 1.0000 - val_loss: 1.5296 - val_accuracy: 0.2500\n",
            "Epoch 96/100\n",
            "2/2 [==============================] - 0s 106ms/step - loss: 0.0057 - accuracy: 1.0000 - val_loss: 1.4484 - val_accuracy: 0.5000\n",
            "Epoch 97/100\n",
            "2/2 [==============================] - 0s 68ms/step - loss: 0.0040 - accuracy: 1.0000 - val_loss: 1.4436 - val_accuracy: 0.5000\n",
            "Epoch 98/100\n",
            "2/2 [==============================] - 0s 62ms/step - loss: 0.0028 - accuracy: 1.0000 - val_loss: 1.4571 - val_accuracy: 0.5000\n",
            "Epoch 99/100\n",
            "2/2 [==============================] - 0s 66ms/step - loss: 0.0072 - accuracy: 1.0000 - val_loss: 1.4644 - val_accuracy: 0.5000\n",
            "Epoch 100/100\n",
            "2/2 [==============================] - 0s 108ms/step - loss: 0.0017 - accuracy: 1.0000 - val_loss: 1.5427 - val_accuracy: 0.2500\n"
          ],
          "name": "stdout"
        }
      ]
    },
    {
      "cell_type": "markdown",
      "metadata": {
        "id": "kSWg8uRcaika"
      },
      "source": [
        "## MODEL PREDICTION"
      ]
    },
    {
      "cell_type": "code",
      "metadata": {
        "id": "9_Er27VMTVST"
      },
      "source": [
        "# Importing essential libraries\r\n",
        "import numpy as np\r\n",
        "from keras.preprocessing import image"
      ],
      "execution_count": 133,
      "outputs": []
    },
    {
      "cell_type": "code",
      "metadata": {
        "colab": {
          "base_uri": "https://localhost:8080/"
        },
        "id": "c8d5LUsdTVw1",
        "outputId": "6badce9e-9a06-4c37-b41a-ca32e9c0df41"
      },
      "source": [
        "test_image = image.load_img('/content/cat or dog 1.jpg', target_size = (64, 64))\r\n",
        "test_image = image.img_to_array(test_image)\r\n",
        "test_image = np.expand_dims(test_image, axis = 0)\r\n",
        "result = model.predict(test_image)\r\n",
        "\r\n",
        "if result[0][0] == 1:\r\n",
        "  print(\"Prediction: It's a Dog's image.\")\r\n",
        "else:\r\n",
        "  print(\"Prediction: It's a Cat's image.\")"
      ],
      "execution_count": 134,
      "outputs": [
        {
          "output_type": "stream",
          "text": [
            "Prediction: It's a Dog's image.\n"
          ],
          "name": "stdout"
        }
      ]
    },
    {
      "cell_type": "code",
      "metadata": {
        "colab": {
          "base_uri": "https://localhost:8080/"
        },
        "id": "KRkmBlbQTV7L",
        "outputId": "6253f6fc-d420-449c-fc34-1a1809401717"
      },
      "source": [
        "test_image = image.load_img('/content/cat.4070.jpg', target_size = (64, 64))\r\n",
        "test_image = image.img_to_array(test_image)\r\n",
        "test_image = np.expand_dims(test_image, axis = 0)\r\n",
        "result = model.predict(test_image)\r\n",
        "\r\n",
        "if result[0][0] == 1:\r\n",
        "  print(\"Prediction: It's a Dog's image.\")\r\n",
        "else:\r\n",
        "  print(\"Prediction: It's a Cat's image.\")"
      ],
      "execution_count": 135,
      "outputs": [
        {
          "output_type": "stream",
          "text": [
            "Prediction: It's a Cat's image.\n"
          ],
          "name": "stdout"
        }
      ]
    },
    {
      "cell_type": "code",
      "metadata": {
        "id": "89WVVCLSzsWr",
        "outputId": "30143510-3187-41d9-ec3d-611b92343833",
        "colab": {
          "base_uri": "https://localhost:8080/"
        }
      },
      "source": [
        "test_image = image.load_img('/content/cat or dog.jpg', target_size = (64, 64))\r\n",
        "test_image = image.img_to_array(test_image)\r\n",
        "test_image = np.expand_dims(test_image, axis = 0)\r\n",
        "result = model.predict(test_image)\r\n",
        "\r\n",
        "if result[0][0] == 1:\r\n",
        "  print(\"Prediction: It's a Dog's image.\")\r\n",
        "else:\r\n",
        "  print(\"Prediction: It's a Cat's image.\")"
      ],
      "execution_count": 136,
      "outputs": [
        {
          "output_type": "stream",
          "text": [
            "Prediction: It's a Cat's image.\n"
          ],
          "name": "stdout"
        }
      ]
    },
    {
      "cell_type": "code",
      "metadata": {
        "id": "N064UxP70tN_",
        "outputId": "9ad9cbd3-7fdb-4d05-8a16-7fa471dc3f06",
        "colab": {
          "base_uri": "https://localhost:8080/"
        }
      },
      "source": [
        "test_image = image.load_img('/content/dog.4077.jpg', target_size = (64, 64))\r\n",
        "test_image = image.img_to_array(test_image)\r\n",
        "test_image = np.expand_dims(test_image, axis = 0)\r\n",
        "result = model.predict(test_image)\r\n",
        "if result[0][0] == 1:\r\n",
        "  print(\"Prediction: It's a Dog's image.\")\r\n",
        "else:\r\n",
        "  print(\"Prediction: It's a Cat's image.\")\r\n"
      ],
      "execution_count": 137,
      "outputs": [
        {
          "output_type": "stream",
          "text": [
            "Prediction: It's a Dog's image.\n"
          ],
          "name": "stdout"
        }
      ]
    }
  ]
}